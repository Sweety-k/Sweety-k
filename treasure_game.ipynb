{
  "nbformat": 4,
  "nbformat_minor": 0,
  "metadata": {
    "colab": {
      "provenance": [],
      "authorship_tag": "ABX9TyPo2fgMIF5Cn6QJsEQKwL9j",
      "include_colab_link": true
    },
    "kernelspec": {
      "name": "python3",
      "display_name": "Python 3"
    },
    "language_info": {
      "name": "python"
    }
  },
  "cells": [
    {
      "cell_type": "markdown",
      "metadata": {
        "id": "view-in-github",
        "colab_type": "text"
      },
      "source": [
        "<a href=\"https://colab.research.google.com/github/Sweety-k/Sweety-k/blob/main/treasure_game.ipynb\" target=\"_parent\"><img src=\"https://colab.research.google.com/assets/colab-badge.svg\" alt=\"Open In Colab\"/></a>"
      ]
    },
    {
      "cell_type": "markdown",
      "source": [
        "                                                                  **TREASURE GAME**"
      ],
      "metadata": {
        "id": "8ZmKkhz_U4Bk"
      }
    },
    {
      "cell_type": "code",
      "source": [
        "'''\n",
        "*******************************************************************************\n",
        "          |                   |                  |                     |\n",
        " _________|________________.=\"\"_;=.______________|_____________________|_______\n",
        "|                   |  ,-\"_,=\"\"     `\"=.|                  |\n",
        "|___________________|__\"=._o`\"-._        `\"=.______________|___________________\n",
        "          |                `\"=._o`\"=._      _`\"=._                     |\n",
        " _________|_____________________:=._o \"=._.\"_.-=\"'\"=.__________________|_______\n",
        "|                   |    __.--\" , ; `\"=._o.\" ,-\"\"\"-._ \".   |\n",
        "|___________________|_._\"  ,. .` ` `` ,  `\"-._\"-._   \". '__|___________________\n",
        "          |           |o`\"=._` , \"` `; .\". ,  \"-._\"-._; ;              |\n",
        " _________|___________| ;`-.o`\"=._; .\" ` '`.\"\\` . \"-._ /_______________|_______\n",
        "|                   | |o;    `\"-.o`\"=._``  '` \" ,__.--o;   |\n",
        "|___________________|_| ;     (#) `-.o `\"=.`_.--\"_o.-; ;___|___________________\n",
        "____/______/______/___|o;._    \"      `\".o|o_.--\"    ;o;____/______/______/____\n",
        "/______/______/______/_\"=._o--._        ; | ;        ; ;/______/______/______/_\n",
        "____/______/______/______/__\"=._o--._   ;o|o;     _._;o;____/______/______/____\n",
        "/______/______/______/______/____\"=._o._; | ;_.--\"o.--\"_/______/______/______/_\n",
        "____/______/______/______/______/_____\"=.o|o_.--\"\"___/______/______/______/____\n",
        "/______/______/______/______/______/______/______/______/______/______/_________\n",
        "*******************************************************************************\n",
        "\n",
        "'''\n",
        "print(\"Welcome to the Treasure island\")\n",
        "print(\"Your mission is to find the treasure\")\n",
        "name = input(\"What is your name?\")\n",
        "print(f\"Hi! {name}, are you ready?\")\n",
        "choice1 = input('You\\'re at a crossroad. Where do you want to go? Type \"left\" or \"right\"').lower()\n",
        "if choice1 == \"left\":\n",
        "  choice2 = input('There is an island in the middle of the lake. Type \"wait\" to wait for a boat. Type \"swim\" to swim across.').lower()\n",
        "  if choice2 == \"wait\":\n",
        "    choice3 = input(\"You arrive at the island unharmed. There is a house with 3 doors. One red, one yellow and one blue. Which colour do you choose?\").lower()\n",
        "    if choice3 == \"red\":\n",
        "      print(\"its\\'s a room full of fire.\\nGame Over !\")\n",
        "    elif choice3 == \"blue\":\n",
        "      print(\"You get attacked by an angry trout.\\nGame Over.\")\n",
        "    elif choice3 ==\"yellow\":\n",
        "      print(\"You found the treasure! You Win!\")\n",
        "  elif choice2 ==\"swim\":\n",
        "    print(\"you lost!, you drown in the midway\\nbetter luck next time\")\n",
        "\n",
        "else:\n",
        "  print(\"Game Over\\nbetter luck next time !\")\n",
        "\n"
      ],
      "metadata": {
        "colab": {
          "base_uri": "https://localhost:8080/"
        },
        "id": "KNgk2YpYU42n",
        "outputId": "69ad9a10-32e6-470b-b064-45197f1a19a5"
      },
      "execution_count": 15,
      "outputs": [
        {
          "output_type": "stream",
          "name": "stdout",
          "text": [
            "Welcome to the Treasure island\n",
            "Your mission is to find the treasure\n",
            "What is your name?sweety \n",
            "Hi! sweety , are you ready?\n",
            "You're at a crossroad. Where do you want to go? Type \"left\" or \"right\"left\n",
            "There is an island in the middle of the lake. Type \"wait\" to wait for a boat. Type \"swim\" to swim across.wait\n",
            "You arrive at the island unharmed. There is a house with 3 doors. One red, one yellow and one blue. Which colour do you choose?yellow\n",
            "You found the treasure! You Win!\n"
          ]
        }
      ]
    }
  ]
}