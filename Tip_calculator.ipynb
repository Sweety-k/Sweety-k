{
  "nbformat": 4,
  "nbformat_minor": 0,
  "metadata": {
    "colab": {
      "provenance": [],
      "authorship_tag": "ABX9TyNkcLjDOshZdziQgWJQdFVm",
      "include_colab_link": true
    },
    "kernelspec": {
      "name": "python3",
      "display_name": "Python 3"
    },
    "language_info": {
      "name": "python"
    }
  },
  "cells": [
    {
      "cell_type": "markdown",
      "metadata": {
        "id": "view-in-github",
        "colab_type": "text"
      },
      "source": [
        "<a href=\"https://colab.research.google.com/github/Sweety-k/Sweety-k/blob/main/Tip_calculator.ipynb\" target=\"_parent\"><img src=\"https://colab.research.google.com/assets/colab-badge.svg\" alt=\"Open In Colab\"/></a>"
      ]
    },
    {
      "cell_type": "code",
      "execution_count": 5,
      "metadata": {
        "colab": {
          "base_uri": "https://localhost:8080/"
        },
        "id": "TyuAuDACchhb",
        "outputId": "fad4ebc2-5942-457b-8f43-241b6b3319e5"
      },
      "outputs": [
        {
          "output_type": "stream",
          "name": "stdout",
          "text": [
            "welcome to the Tip Calculator\n",
            "what was the total bill? $590\n",
            "what percentage tip would you like to give? 10, 12, or 15?0\n",
            "how many people to split the bill?5\n",
            "your's total tip amount is:$0.0 \n",
            "your's total bill is :$590.0\n",
            "each person should pay: $ 118.0\n"
          ]
        }
      ],
      "source": [
        "print(\"welcome to the Tip Calculator\")\n",
        "bill = float(input(\"what was the total bill? $\"))\n",
        "tip = int(input(\"what percentage tip would you like to give? 10, 12, or 15?\"))\n",
        "people = int(input(\"how many people to split the bill?\"))\n",
        "tip_as_percent = tip /100\n",
        "total_tip_amount = bill * tip_as_percent\n",
        "print(f\"your's total tip amount is:${total_tip_amount} \")\n",
        "total_bill = bill + total_tip_amount\n",
        "print(f\"your's total bill is :${total_bill}\")\n",
        "bill_per_person = total_bill / people\n",
        "print(f\"each person should pay: $\",round(bill_per_person,2))"
      ]
    }
  ]
}